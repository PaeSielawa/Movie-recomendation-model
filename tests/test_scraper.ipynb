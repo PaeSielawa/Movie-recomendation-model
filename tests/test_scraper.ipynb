{
 "cells": [
  {
   "cell_type": "code",
   "execution_count": 8,
   "id": "21f3d596",
   "metadata": {},
   "outputs": [],
   "source": [
    "# Komórka 1 - Imports and setup\n",
    "import sys\n",
    "import os\n",
    "\n",
    "# Dodaj ścieżkę do katalogu src\n",
    "current_dir = os.getcwd()\n",
    "parent_dir = os.path.dirname(current_dir)\n",
    "sys.path.append(parent_dir)\n",
    "\n",
    "from src.scraper.letterboxd_scraper import LetterboxdScraper"
   ]
  },
  {
   "cell_type": "code",
   "execution_count": 24,
   "id": "5f48bbb8",
   "metadata": {},
   "outputs": [
    {
     "name": "stdout",
     "output_type": "stream",
     "text": [
      "Fetching ratings for user: paesielawa\n",
      "Page 1: Found 72 films\n",
      "Page 2: Found 72 films\n",
      "Page 3: Found 72 films\n",
      "Page 4: Found 72 films\n",
      "Page 5: Found 72 films\n",
      "Page 6: Found 72 films\n",
      "Page 7: Found 72 films\n",
      "Page 8: Found 72 films\n",
      "Page 9: Found 20 films\n",
      "\n",
      "DataFrame shape: (596, 4)\n",
      "\n",
      "Columns: ['movie_id', 'movie_title', 'rating', 'date']\n",
      "\n",
      "First 5 rows:\n",
      "                                     movie_id  \\\n",
      "0                                sinners-2025   \n",
      "1                            the-amateur-2025   \n",
      "2                                   mickey-17   \n",
      "3           secret-level-playtime-fulfillment   \n",
      "4  secret-level-honor-of-kings-the-way-of-all   \n",
      "\n",
      "                                         movie_title  rating  date  \n",
      "0                                            Sinners     4.5  None  \n",
      "1                                        The Amateur     2.5  None  \n",
      "2                                          Mickey 17     3.5  None  \n",
      "3               Secret Level - Playtime: Fulfillment     2.5  None  \n",
      "4  Secret Level - Honor of Kings: The Way of All ...     3.5  None  \n"
     ]
    }
   ],
   "source": [
    "# Komórka 2 - Test scraping\n",
    "scraper = LetterboxdScraper()\n",
    "username = 'paesielawa'\n",
    "\n",
    "print(f\"Fetching ratings for user: {username}\")\n",
    "df = scraper.get_user_ratings(username)\n",
    "\n",
    "# Display DataFrame info\n",
    "print(\"\\nDataFrame shape:\", df.shape)\n",
    "print(\"\\nColumns:\", df.columns.tolist())\n",
    "\n",
    "# Display first few rows\n",
    "print(\"\\nFirst 5 rows:\")\n",
    "print(df.head())"
   ]
  },
  {
   "cell_type": "code",
   "execution_count": null,
   "id": "09657429",
   "metadata": {},
   "outputs": [],
   "source": []
  }
 ],
 "metadata": {
  "kernelspec": {
   "display_name": "Python 3",
   "language": "python",
   "name": "python3"
  },
  "language_info": {
   "codemirror_mode": {
    "name": "ipython",
    "version": 3
   },
   "file_extension": ".py",
   "mimetype": "text/x-python",
   "name": "python",
   "nbconvert_exporter": "python",
   "pygments_lexer": "ipython3",
   "version": "3.12.2"
  }
 },
 "nbformat": 4,
 "nbformat_minor": 5
}
